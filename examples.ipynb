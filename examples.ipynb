{
  "nbformat": 4,
  "nbformat_minor": 0,
  "metadata": {
    "colab": {
      "name": "examples-of-python.ipynb",
      "provenance": []
    },
    "kernelspec": {
      "name": "python3",
      "display_name": "Python 3"
    }
  },
  "cells": [
    {
      "cell_type": "markdown",
      "metadata": {
        "id": "QWZM5f-AzXI1",
        "colab_type": "text"
      },
      "source": [
        "Exposición de 5 minutos sobre python "
      ]
    },
    {
      "cell_type": "code",
      "metadata": {
        "id": "uro9P4RMzihD",
        "colab_type": "code",
        "colab": {}
      },
      "source": [
        "T = input(\"Yo yo te puedo ayudar a saber si estas en un lugar que hace frio, esta fresco o es un lugar caluroso. Para eso nescesito que me dias la temperatura que muestra el lugar donde estas : \")\n",
        "\n",
        "\n",
        "### clasificamos la temperatura con C\n",
        "if T <= 15 :\n",
        "\tprint(\"hace frio\")\n",
        "if T > 16 and T < 29 :\n",
        "\tprint(\"esta fresco\")\n",
        "if T >= 29 :\n",
        "\tprint(\"hace calor\")"
      ],
      "execution_count": 0,
      "outputs": []
    },
    {
      "cell_type": "markdown",
      "metadata": {
        "id": "bkTA-cuQzuP4",
        "colab_type": "text"
      },
      "source": [
        "Ahora aprendamos un poco para hacer nosotros nuestros propios ejemplos"
      ]
    },
    {
      "cell_type": "code",
      "metadata": {
        "id": "_nR0DDxcURMx",
        "colab_type": "code",
        "outputId": "d1fbd93f-9297-4924-a3c3-770cb48a31f7",
        "colab": {
          "base_uri": "https://localhost:8080/",
          "height": 34
        }
      },
      "source": [
        "print(\"Hey Mentes Brillantes\")"
      ],
      "execution_count": 0,
      "outputs": [
        {
          "output_type": "stream",
          "text": [
            "Hey Mentes Brillantes\n"
          ],
          "name": "stdout"
        }
      ]
    },
    {
      "cell_type": "code",
      "metadata": {
        "id": "7xWCpro2WO9i",
        "colab_type": "code",
        "colab": {}
      },
      "source": [
        "#Verdadero o falso"
      ],
      "execution_count": 0,
      "outputs": []
    },
    {
      "cell_type": "code",
      "metadata": {
        "id": "oun7SwiPWTuN",
        "colab_type": "code",
        "outputId": "d38b68a9-aa52-4e6c-a4c0-1983605fd1ae",
        "colab": {
          "base_uri": "https://localhost:8080/",
          "height": 34
        }
      },
      "source": [
        "n=\"dragon\"\n",
        "e=26\n",
        "t=1.76\n",
        "print(n)"
      ],
      "execution_count": 0,
      "outputs": [
        {
          "output_type": "stream",
          "text": [
            "dragon\n"
          ],
          "name": "stdout"
        }
      ]
    },
    {
      "cell_type": "code",
      "metadata": {
        "id": "l45U9Fh5WjPy",
        "colab_type": "code",
        "outputId": "3f1894f9-87d4-4102-e17d-cb0577ad168f",
        "colab": {
          "base_uri": "https://localhost:8080/",
          "height": 34
        }
      },
      "source": [
        "print(\"mi apodo es\",n, \"tengo\",e,\"mido\",t)"
      ],
      "execution_count": 0,
      "outputs": [
        {
          "output_type": "stream",
          "text": [
            "mi apodo es dragon tengo 26 mido 1.76\n"
          ],
          "name": "stdout"
        }
      ]
    },
    {
      "cell_type": "code",
      "metadata": {
        "id": "4t9Mxsd2119Y",
        "colab_type": "code",
        "colab": {
          "base_uri": "https://localhost:8080/",
          "height": 34
        },
        "outputId": "9561975a-d8e0-46ff-ef64-615a9c37ea82"
      },
      "source": [
        "x=30\n",
        "y=4\n",
        "z=(x-y)\n",
        "print(z)"
      ],
      "execution_count": 5,
      "outputs": [
        {
          "output_type": "stream",
          "text": [
            "26\n"
          ],
          "name": "stdout"
        }
      ]
    },
    {
      "cell_type": "code",
      "metadata": {
        "id": "HqHcXAhd2Xjj",
        "colab_type": "code",
        "colab": {
          "base_uri": "https://localhost:8080/",
          "height": 34
        },
        "outputId": "d1c8146b-dd0c-433c-fe35-86378b44abc7"
      },
      "source": [
        "import math\n",
        "\n",
        "valor=6\n",
        "resultado=math.factorial(valor)\n",
        "print(resultado)"
      ],
      "execution_count": 9,
      "outputs": [
        {
          "output_type": "stream",
          "text": [
            "720\n"
          ],
          "name": "stdout"
        }
      ]
    },
    {
      "cell_type": "code",
      "metadata": {
        "id": "iueWIkzj4dwq",
        "colab_type": "code",
        "colab": {
          "base_uri": "https://localhost:8080/",
          "height": 34
        },
        "outputId": "ea8b5258-1fa2-4a11-fbc5-a898e6cd9b23"
      },
      "source": [
        "nota_final=18\n",
        "\n",
        "if nota_final<11 :\n",
        "  print('desaprobaste')\n",
        "else:\n",
        "  print('aprobaste')"
      ],
      "execution_count": 14,
      "outputs": [
        {
          "output_type": "stream",
          "text": [
            "aprobaste\n"
          ],
          "name": "stdout"
        }
      ]
    }
  ]
}